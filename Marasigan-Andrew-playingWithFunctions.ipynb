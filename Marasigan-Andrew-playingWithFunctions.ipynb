{
 "cells": [
  {
   "cell_type": "markdown",
   "id": "c9391656-f25b-4dd4-84e9-dfadbc744201",
   "metadata": {},
   "source": [
    "# Assignment: Playing with Functions\n",
    "\n",
    "## Instructions\n",
    "\n",
    "This is the template file for the assignment of Module 4 called \"Playing with Functions.\" Please carefully follow the instructions below.\n",
    "\n",
    "1. Rename this file by filling out your surname and first name in the file name. For example, if your surname is Ilagan and if your first name is Joben, then rename the file to ILAGAN-JOBEN-playingWithFunctions.ipynb.\n",
    "2. Fill out the markdown cell just above `Problem 1` with your student details as indicated.  \n",
    "3. To submit this file, first, upload your file to your GitHub repository and, second, submit your repository link to the assignment on Canvas.\n"
   ]
  },
  {
   "cell_type": "markdown",
   "id": "34d11f03-8334-4e4e-a3a8-e416e9e3d86b",
   "metadata": {},
   "source": [
    "## Student Details\n",
    "\n",
    "ID Number:  203303\n",
    "Surname:  Marasigan\n",
    "Year and Course:  2 BS ITE "
   ]
  },
  {
   "cell_type": "markdown",
   "id": "7843e78a-c77f-4662-900c-714330ada001",
   "metadata": {},
   "source": [
    "## Problem 1\n",
    "## Factorial (1 point)\n",
    "\n",
    "The **factorial** of a number is the product of that number and all the numbers below it. For example, 5 factorial (denoted 5! in math) is 5 * 4 * 3 * 2 * 1, which is 120.  \n",
    "\n",
    "**Write a function called `problem_1` that takes one positional argument `number`. The function should return  the factorial of `number` as an integer.**\n",
    "\n",
    "Example input/output:  \n",
    "`problem_1(5)` => `120`  \n",
    "`problem_1(10)` => `3628800`  "
   ]
  },
  {
   "cell_type": "code",
   "execution_count": 155,
   "id": "1a62b7a0-5d38-42dd-8cb8-ced94be5455d",
   "metadata": {},
   "outputs": [
    {
     "name": "stdin",
     "output_type": "stream",
     "text": [
      "Enter number:  5\n"
     ]
    },
    {
     "name": "stdout",
     "output_type": "stream",
     "text": [
      "120\n"
     ]
    }
   ],
   "source": [
    "def problem_1(number):\n",
    "    factorial = 1\n",
    "    for i in range(1, number + 1):\n",
    "        factorial = factorial * i\n",
    "    print(factorial)\n",
    "          \n",
    "number = int(input(\"Enter number: \"))      \n",
    "\n",
    "if number <0: \n",
    "    print(\"Enter Positive Integer Only\")\n",
    "elif number == 0:\n",
    "    print(\"1\")\n",
    "else:\n",
    "    problem_1(number)"
   ]
  },
  {
   "cell_type": "markdown",
   "id": "b95d08a5-e4f9-4bb4-8e18-e09e629df96b",
   "metadata": {},
   "source": [
    "## Problem 2\n",
    "## Guessing Game (2 points) \n",
    "\n",
    "Recall that we use `input()` to ask for user input.  \n",
    "\n",
    "**Write a function called `problem_2` that takes one positional argument `passphrase`. The function should ask the user to enter the passphrase with `input()`. If the user enters the correct passphrase, the function should return the integer `1`. If the user enters the wrong passphrase, the function should keep asking them for the passphrase. If the user gets the passphrase wrong 3 times, the function should return the integer `0`.**  \n",
    "\n",
    "Example input/output:  \n",
    "\n",
    "Function input:  \n",
    "`problem_2(\"chums\")`  \n",
    "Simulated user input:  \n",
    "`joben`  \n",
    "`chums`  \n",
    "Output:  \n",
    "`1`  \n",
    "\n",
    "Function input:  \n",
    "`problem_2(\"annika\")`  \n",
    "Simulated user input:  \n",
    "`joe`  \n",
    "`earl`  \n",
    "`niks`  \n",
    "Output:  \n",
    "`0`"
   ]
  },
  {
   "cell_type": "code",
   "execution_count": 2,
   "id": "948e9ab7-85e3-417e-914d-c1c27bdbfcdb",
   "metadata": {},
   "outputs": [
    {
     "name": "stdout",
     "output_type": "stream",
     "text": [
      "Enter Passphrase: joe\n",
      "Enter Passphrase: earl niks\n",
      "Enter Passphrase: niks\n",
      "0\n"
     ]
    }
   ],
   "source": [
    "def problem_2():\n",
    "    count = 0\n",
    "    while count < 3:        \n",
    "        user_input = (input(\"Enter Passphrase: \"))\n",
    "        if user_input == \"chums\":\n",
    "            print(\"1\")\n",
    "            break\n",
    "        count = count + 1 \n",
    "    if count == 3:\n",
    "        print (\"0\")\n",
    "        \n",
    "problem_2()"
   ]
  },
  {
   "cell_type": "markdown",
   "id": "1b434f41-8e16-4a4d-a8d0-96be3ed2a309",
   "metadata": {},
   "source": [
    "## Problem 3\n",
    "## Temperature Converter (3 points)\n",
    "\n",
    "A common beginner's exercise is to write a function that can convert a temperature value from one format, such as Fahrenheit, to another, such as Celsius.  \n",
    "\n",
    "In this problem, extend this idea to convert temperatures freely to and from any of the following formats: Celsius, Fahrenheit, and Kelvin.  \n",
    "\n",
    "**Write a function called `problem_3` that takes three positional arguments: (float) `temp`, (string) `original_format`, (string) `new_format`. The function should convert `temp`, which is represented in `original_format`, to its equivalent value in the `new_format.`**  \n",
    "\n",
    "Example input/output:  \n",
    "`problem_3(0.0, \"Celsius\", \"Fahrenheit\")` => `32.0`  \n",
    "`problem_3(500.0, \"Kelvin\", \"Fahrenheit\")` => `440.33`  \n",
    "`problem_3(273.0, \"Kelvin\", \"Celsius\")` => `0.0`  \n",
    "\n",
    "For your convenience:  \n",
    "1. The accuracy of your float outputs will only be evaluated to within 4 decimal places. "
   ]
  },
  {
   "cell_type": "code",
   "execution_count": 164,
   "id": "652183db-4f42-40cf-b8cf-f0120914b86b",
   "metadata": {},
   "outputs": [
    {
     "name": "stdin",
     "output_type": "stream",
     "text": [
      "What temperature:  273\n",
      "From which unit?  Kelvin\n",
      "Convert to which unit?  Celcius\n"
     ]
    },
    {
     "name": "stdout",
     "output_type": "stream",
     "text": [
      "-0.14999999999997726\n"
     ]
    }
   ],
   "source": [
    "def problem_3():\n",
    "    temp = float(input(\"What temperature: \"))\n",
    "    original_format = input(\"From which unit? \")\n",
    "    new_format = input(\"Convert to which unit? \")\n",
    "\n",
    "    if original_format ==\"Celcius\" and new_format ==\"Farenheit\":\n",
    "        print(temp*9/5+32)\n",
    "    elif original_format ==\"Celcius\" and new_format ==\"Kelvin\":\n",
    "        print(temp+273.15)\n",
    "    elif original_format ==\"Farenheit\" and new_format ==\"Celcius\":\n",
    "        print(temp-32*5/9)\n",
    "    elif original_format ==\"Farenheit\" and new_format ==\"Kelvin\":\n",
    "        print(temp+459.67)\n",
    "    elif original_format ==\"Kelvin\" and new_format ==\"Celcius\":\n",
    "        print(temp-273.15)\n",
    "    elif original_format ==\"Kelvin\" and new_format ==\"Farenheit\":\n",
    "        print(temp-273.15*9/5+32)\n",
    "    else:\n",
    "        print(\"Not Valid\")\n",
    "\n",
    "problem_3()\n",
    "    "
   ]
  },
  {
   "cell_type": "markdown",
   "id": "f12ed1ad-7738-4f4a-aa35-8f7ee87ea395",
   "metadata": {},
   "source": [
    "## Problem 4\n",
    "## Exact Change (4 points)\n",
    "\n",
    "Part of a cashier's job is to give exact change to customers. It can be difficult to mentally tally how many coins of each type (i.e., 1 peso, 25 centavos, 10 centavos, etc.) to give to a customer.  \n",
    "\n",
    "**Write a function called `problem_4` that takes 1 positional argument `amount` in centavos. The function should return a string that describes the appropriate amounts of each type of coin to give to the customer. The string should be formatted as follows:**  \n",
    "\n",
    "`\"1P:{num}/25C:{num}/10C:{num}/5C:{num}/1C:{num}\"`  \n",
    "\n",
    "**Use the fewest number of total coins possible.**  \n",
    "\n",
    "Example input/output:  \n",
    "`problem_4(105)` => `\"1P:1/25C:0/10C:0/5C:1/1C:0\"`  \n",
    "`problem_4(69)` => `\"1P:0/25C:2/10C:1/5C:1/1C:4\"`  "
   ]
  },
  {
   "cell_type": "code",
   "execution_count": 84,
   "id": "3899279e-d77b-49f6-a7ed-da43c631fff4",
   "metadata": {},
   "outputs": [
    {
     "name": "stdout",
     "output_type": "stream",
     "text": [
      "Enter Money: 165\n",
      "1P:0/25C:0/10C:0/5C:0/1C:0\n",
      "1 Nickel\n"
     ]
    }
   ],
   "source": [
    "def problem_4(amount):\n",
    "    peso = amount//100\n",
    "    peso_change = amount % 100\n",
    "    if peso == 1:\n",
    "        problem_4(amount-1*100)\n",
    "    elif peso > 1:\n",
    "        problem_4(amount-peso*100)\n",
    "    elif peso_change >= 25:\n",
    "        quarter = peso_change//25\n",
    "        quarter_change = peso_change % 25\n",
    "        if quarter == 1:\n",
    "            problem_4(amount-1*25)\n",
    "        elif quarter > 1:\n",
    "            problem_4(amount-quarter*25)\n",
    "    elif peso_change >= 10:\n",
    "        dime = peso_change // 10\n",
    "        dime_change = peso_change % 10\n",
    "        if dime == 1:\n",
    "            printCurrency(amount-1*10)\n",
    "        elif dime > 1:\n",
    "            printCurrency(amount-dime*10)\n",
    "    elif peso_change >= 5:\n",
    "        nickel = peso_change // 5\n",
    "        nickel_change = peso_change % 5\n",
    "        if nickel == 1:\n",
    "            problem_4(amount-1*5)\n",
    "        elif nickel > 1:\n",
    "            problem_4(amount-nickel*5)\n",
    "    elif peso_change >= 1:\n",
    "            penny = peso_change // 1\n",
    "            if penny == 1:\n",
    "                problem_4(amount-1*1)\n",
    "            else:\n",
    "                problem_4(amount-penny*1)\n",
    "    elif peso_change == 0:\n",
    "    print(\"1P:{}/25C:{}/10C:{}/5C:{}/1C:{}\".format(peso,quarter,dime,nickel,penny))\n",
    "               \n",
    "amount_input = int(input(\"Enter Money: \"))\n",
    "problem_4(amount_input)\n"
   ]
  },
  {
   "cell_type": "markdown",
   "id": "a45e4549-fb1a-4a4e-aceb-1eb46ceaa2c2",
   "metadata": {},
   "source": [
    "# Problem 5\n",
    "## Invert Capitalization (3 points)  \n",
    "\n",
    "**Write a function called `problem_5` that takes 1 positional argument (string) `message`. The function should return a string whose uppercase letters are now lowercase and whose lowercase letters are now uppercase. Spaces should be left alone.**  \n",
    "\n",
    "Example input/output:  \n",
    "`problem_5(\"Test Me\")` => `\"tEST mE\"`  \n",
    "`problem_5(\"asSiGnmENt\")` => `\"ASsIgNMenT\"`  \n",
    "\n",
    "For your convenience:  \n",
    "1. The message will only ever consist of spaces, lowercase letters, and uppercase letters.  \n",
    "\n",
    "Hint: Research on `ord()` and `chr()`.  "
   ]
  },
  {
   "cell_type": "code",
   "execution_count": 90,
   "id": "df8d9597-cca1-44ef-b1c8-a0050d512d45",
   "metadata": {},
   "outputs": [
    {
     "name": "stdout",
     "output_type": "stream",
     "text": [
      "Enter Message Test Me\n"
     ]
    },
    {
     "ename": "ValueError",
     "evalue": "substring not found",
     "output_type": "error",
     "traceback": [
      "\u001b[1;31m---------------------------------------------------------------------------\u001b[0m",
      "\u001b[1;31mValueError\u001b[0m                                Traceback (most recent call last)",
      "\u001b[1;32m<ipython-input-90-7479f3f8457b>\u001b[0m in \u001b[0;36m<module>\u001b[1;34m\u001b[0m\n\u001b[0;32m     16\u001b[0m             \u001b[0mprint\u001b[0m\u001b[1;33m(\u001b[0m\u001b[0mchar\u001b[0m\u001b[1;33m,\u001b[0m\u001b[0mend\u001b[0m\u001b[1;33m=\u001b[0m\u001b[1;34m\"\"\u001b[0m\u001b[1;33m)\u001b[0m\u001b[1;33m\u001b[0m\u001b[1;33m\u001b[0m\u001b[0m\n\u001b[0;32m     17\u001b[0m \u001b[1;33m\u001b[0m\u001b[0m\n\u001b[1;32m---> 18\u001b[1;33m \u001b[0mproblem_5\u001b[0m\u001b[1;33m(\u001b[0m\u001b[1;33m)\u001b[0m\u001b[1;33m\u001b[0m\u001b[1;33m\u001b[0m\u001b[0m\n\u001b[0m\u001b[0;32m     19\u001b[0m \u001b[1;33m\u001b[0m\u001b[0m\n",
      "\u001b[1;32m<ipython-input-90-7479f3f8457b>\u001b[0m in \u001b[0;36mproblem_5\u001b[1;34m()\u001b[0m\n\u001b[0;32m      8\u001b[0m \u001b[1;33m\u001b[0m\u001b[0m\n\u001b[0;32m      9\u001b[0m     \u001b[0mlowercase\u001b[0m\u001b[1;33m.\u001b[0m\u001b[0mfind\u001b[0m\u001b[1;33m(\u001b[0m\u001b[1;34m\"A\"\u001b[0m\u001b[1;33m)\u001b[0m\u001b[1;33m\u001b[0m\u001b[1;33m\u001b[0m\u001b[0m\n\u001b[1;32m---> 10\u001b[1;33m     \u001b[0mlowercase\u001b[0m\u001b[1;33m.\u001b[0m\u001b[0mindex\u001b[0m\u001b[1;33m(\u001b[0m\u001b[1;34m\"A\"\u001b[0m\u001b[1;33m)\u001b[0m\u001b[1;33m\u001b[0m\u001b[1;33m\u001b[0m\u001b[0m\n\u001b[0m\u001b[0;32m     11\u001b[0m \u001b[1;33m\u001b[0m\u001b[0m\n\u001b[0;32m     12\u001b[0m     \u001b[1;32mfor\u001b[0m \u001b[0mchar\u001b[0m \u001b[1;32min\u001b[0m \u001b[0mmessage\u001b[0m\u001b[1;33m:\u001b[0m\u001b[1;33m\u001b[0m\u001b[1;33m\u001b[0m\u001b[0m\n",
      "\u001b[1;31mValueError\u001b[0m: substring not found"
     ]
    }
   ],
   "source": [
    "def problem_5():\n",
    "    message = input(\"Enter Message \")\n",
    "    lowercase = \"abcdefghijklmnopqrstuvwxyz\"\n",
    "    uppercase = \"ABCDEFGHIJKLMNOPQRSTUVWXYZ\"\n",
    "\n",
    "    lowercase.find(\"d\")\n",
    "    lowercase.index(\"d\")\n",
    "    \n",
    "    lowercase.find(\"A\")\n",
    "    lowercase.index(\"A\")\n",
    "\n",
    "    for char in message:\n",
    "        if ch in lowercase:\n",
    "            print(uppercase[lowercase.find(ch)],end=\"\")\n",
    "        else:\n",
    "            print(char,end=\"\")\n",
    "    \n",
    "problem_5()\n",
    "    "
   ]
  },
  {
   "cell_type": "code",
   "execution_count": null,
   "id": "5ca9d27f",
   "metadata": {},
   "outputs": [],
   "source": []
  }
 ],
 "metadata": {
  "kernelspec": {
   "display_name": "Python 3",
   "language": "python",
   "name": "python3"
  },
  "language_info": {
   "codemirror_mode": {
    "name": "ipython",
    "version": 3
   },
   "file_extension": ".py",
   "mimetype": "text/x-python",
   "name": "python",
   "nbconvert_exporter": "python",
   "pygments_lexer": "ipython3",
   "version": "3.8.8"
  }
 },
 "nbformat": 4,
 "nbformat_minor": 5
}
